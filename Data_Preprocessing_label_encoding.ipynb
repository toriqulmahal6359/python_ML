{
  "nbformat": 4,
  "nbformat_minor": 0,
  "metadata": {
    "colab": {
      "provenance": [],
      "authorship_tag": "ABX9TyMEjwIcjMLKWPrOtugjf9eW",
      "include_colab_link": true
    },
    "kernelspec": {
      "name": "python3",
      "display_name": "Python 3"
    },
    "language_info": {
      "name": "python"
    }
  },
  "cells": [
    {
      "cell_type": "markdown",
      "metadata": {
        "id": "view-in-github",
        "colab_type": "text"
      },
      "source": [
        "<a href=\"https://colab.research.google.com/github/toriqulmahal6359/python_ML/blob/main/Data_Preprocessing_label_encoding.ipynb\" target=\"_parent\"><img src=\"https://colab.research.google.com/assets/colab-badge.svg\" alt=\"Open In Colab\"/></a>"
      ]
    },
    {
      "cell_type": "code",
      "execution_count": 38,
      "metadata": {
        "id": "zY8OQMqligIM"
      },
      "outputs": [],
      "source": [
        "import pandas as pd\n",
        "import numpy as np"
      ]
    },
    {
      "cell_type": "code",
      "source": [
        "dataset = pd.read_csv(\"sample_data/Data.csv\")\n",
        "X = dataset.iloc[ :, :-1].values\n",
        "Y = dataset.iloc[ : , 3].values"
      ],
      "metadata": {
        "id": "oe7I-BZnijzC"
      },
      "execution_count": 48,
      "outputs": []
    },
    {
      "cell_type": "code",
      "source": [
        "##!pip install scikit-learn\n",
        "from sklearn.impute import SimpleImputer\n",
        "imputer = SimpleImputer(missing_values= np.nan, strategy = \"mean\")\n",
        "imputer.fit(X[: , 1:3])\n",
        "X[:, 1:3] = imputer.transform(X[:, 1:3])"
      ],
      "metadata": {
        "id": "Wxt52qlujhjz"
      },
      "execution_count": 49,
      "outputs": []
    },
    {
      "cell_type": "code",
      "source": [
        "##!pip install scikit-learn\n",
        "from sklearn.impute import SimpleImputer\n",
        "imputer = SimpleImputer(missing_values= np.nan, strategy = \"mean\")\n",
        "imputer.fit(X[: , 1:3])\n",
        "X[:, 1:3] = imputer.transform(X[:, 1:3])"
      ],
      "metadata": {
        "id": "SNlG2-0LlVsM"
      },
      "execution_count": 50,
      "outputs": []
    },
    {
      "cell_type": "code",
      "source": [
        "from sklearn.preprocessing import LabelEncoder, OneHotEncoder\n",
        "labelEncoder_X = LabelEncoder()\n",
        "X[:, 0] = labelEncoder_X.fit_transform(X[:, 0])"
      ],
      "metadata": {
        "id": "UoNMtxZdnEjL"
      },
      "execution_count": 42,
      "outputs": []
    },
    {
      "cell_type": "code",
      "source": [
        "cat = [np.unique(X[:, 0]) for i in range(X.shape[1])]     ##for i in range(X.shape[1])\n",
        "onehotencoder = OneHotEncoder(categories=cat)\n",
        "onehotencoder = OneHotEncoder(handle_unknown='ignore')\n",
        "X_encoded = onehotencoder.fit_transform(X).toarray()\n",
        "labelEncoder_Y = LabelEncoder()\n",
        "Y_encoded = labelEncoder_Y.fit_transform(Y)"
      ],
      "metadata": {
        "id": "_VVln71en-eh"
      },
      "execution_count": 60,
      "outputs": []
    },
    {
      "cell_type": "code",
      "source": [
        "from sklearn.model_selection import train_test_split\n",
        "X_train, X_test, Y_train, Y_test = train_test_split(X_encoded, Y_encoded, test_size = 0.2, random_state = 0)"
      ],
      "metadata": {
        "id": "u5pWe5B2saYL"
      },
      "execution_count": 61,
      "outputs": []
    },
    {
      "cell_type": "code",
      "source": [
        "from sklearn.preprocessing import StandardScaler\n",
        "sc_x = StandardScaler()\n",
        "X_train = sc_x.fit_transform(X_train)\n",
        "X_test = sc_x.fit_transform(X_test)"
      ],
      "metadata": {
        "id": "iEKSYYKitjBJ"
      },
      "execution_count": 62,
      "outputs": []
    }
  ]
}